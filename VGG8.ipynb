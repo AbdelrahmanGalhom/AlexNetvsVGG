{
  "nbformat": 4,
  "nbformat_minor": 0,
  "metadata": {
    "colab": {
      "provenance": [],
      "gpuType": "T4"
    },
    "kernelspec": {
      "name": "python3",
      "display_name": "Python 3"
    },
    "language_info": {
      "name": "python"
    },
    "accelerator": "GPU"
  },
  "cells": [
    {
      "cell_type": "code",
      "execution_count": 17,
      "metadata": {
        "id": "O2g_fHYSTmUK"
      },
      "outputs": [],
      "source": [
        "import numpy as np\n",
        "import matplotlib.pyplot as plt\n",
        "\n",
        "import torch\n",
        "import torchvision\n",
        "import torchvision.transforms as transforms\n",
        "import torch.nn as nn\n",
        "import torch.optim as optim\n",
        "import torch.nn as nn\n",
        "\n",
        "\n",
        "import pickle\n",
        "import os\n",
        "import time"
      ]
    },
    {
      "cell_type": "code",
      "source": [
        "if not os.path.exists('models'):\n",
        "    os.makedirs('models')\n",
        "\n",
        "if not os.path.exists('results'):\n",
        "    os.makedirs('results')\n",
        "\n",
        "if not os.path.exists('data'):\n",
        "    os.makedirs('data')"
      ],
      "metadata": {
        "id": "Stg__kLuT1xH"
      },
      "execution_count": 18,
      "outputs": []
    },
    {
      "cell_type": "code",
      "source": [
        "transform = transforms.Compose([\n",
        "    transforms.Resize(256),\n",
        "    transforms.CenterCrop(224),\n",
        "    transforms.ToTensor(),\n",
        "    transforms.Normalize(mean=[0.485, 0.456, 0.406], std=[0.229, 0.224, 0.225]),\n",
        "])"
      ],
      "metadata": {
        "id": "b1jQ8sVHT8y1"
      },
      "execution_count": 19,
      "outputs": []
    },
    {
      "cell_type": "code",
      "source": [
        "train_data = torchvision.datasets.CIFAR10(root='./data', train=True, download=True, transform=transform)\n",
        "trainloader = torch.utils.data.DataLoader(train_data, batch_size=4, shuffle=True, num_workers=2)\n",
        "\n",
        "test_data = torchvision.datasets.CIFAR10(root='./data', train=False, download=True, transform=transform)\n",
        "testloader = torch.utils.data.DataLoader(test_data, batch_size=4, shuffle=False, num_workers=2)\n",
        "\n",
        "classes = ['Airplane', 'Car', 'Bird', 'Cat', 'Deer', 'Dog', 'Frog', 'Horse', 'Ship', 'Truck']"
      ],
      "metadata": {
        "id": "8MiVmgE4UCkv"
      },
      "execution_count": 20,
      "outputs": []
    },
    {
      "cell_type": "code",
      "source": [
        "import torch\n",
        "import torch.nn as nn\n",
        "\n",
        "class VGG8(nn.Module):\n",
        "    def __init__(self, num_classes=10, init_weights=True):\n",
        "        super(VGG8, self).__init__()\n",
        "\n",
        "        # Feature extraction layers\n",
        "        self.features = nn.Sequential(\n",
        "            # Block 1: 64 filters\n",
        "            nn.Conv2d(3, 64, kernel_size=3, padding=1),\n",
        "            nn.ReLU(inplace=True),\n",
        "            nn.MaxPool2d(kernel_size=2, stride=2),\n",
        "\n",
        "            # Block 2: 128 filters\n",
        "            nn.Conv2d(64, 128, kernel_size=3, padding=1),\n",
        "            nn.ReLU(inplace=True),\n",
        "            nn.MaxPool2d(kernel_size=2, stride=2),\n",
        "\n",
        "            # Block 3: 256 filters\n",
        "            nn.Conv2d(128, 256, kernel_size=3, padding=1),\n",
        "            nn.ReLU(inplace=True),\n",
        "            nn.Conv2d(256, 256, kernel_size=3, padding=1),\n",
        "            nn.ReLU(inplace=True),\n",
        "            nn.MaxPool2d(kernel_size=2, stride=2),\n",
        "\n",
        "            # Block 4: 512 filters\n",
        "            nn.Conv2d(256, 512, kernel_size=3, padding=1),\n",
        "            nn.ReLU(inplace=True),\n",
        "            nn.Conv2d(512, 512, kernel_size=3, padding=1),\n",
        "            nn.ReLU(inplace=True),\n",
        "            nn.MaxPool2d(kernel_size=2, stride=2),\n",
        "        )\n",
        "\n",
        "        # Adaptive pooling to handle different input sizes\n",
        "        self.avgpool = nn.AdaptiveAvgPool2d((7, 7))\n",
        "\n",
        "        # Fully connected classifier layers\n",
        "        self.classifier = nn.Sequential(\n",
        "            nn.Linear(512 * 7 * 7, 4096),\n",
        "            nn.ReLU(inplace=True),\n",
        "            nn.Dropout(p=0.5),\n",
        "            nn.Linear(4096, 512),\n",
        "            nn.ReLU(inplace=True),\n",
        "            nn.Dropout(p=0.5),\n",
        "            nn.Linear(512, num_classes)\n",
        "        )\n",
        "\n",
        "        # Initialize weights\n",
        "        if init_weights:\n",
        "            self._initialize_weights()\n",
        "\n",
        "    def forward(self, x):\n",
        "        x = self.features(x)\n",
        "        x = self.avgpool(x)\n",
        "        x = torch.flatten(x, 1)\n",
        "        x = self.classifier(x)\n",
        "        return x\n",
        "\n",
        "    def _initialize_weights(self):\n",
        "        for m in self.modules():\n",
        "            if isinstance(m, nn.Conv2d):\n",
        "                nn.init.kaiming_normal_(m.weight, mode='fan_out', nonlinearity='relu')\n",
        "                if m.bias is not None:\n",
        "                    nn.init.constant_(m.bias, 0)\n",
        "            elif isinstance(m, nn.BatchNorm2d):\n",
        "                nn.init.constant_(m.weight, 1)\n",
        "                nn.init.constant_(m.bias, 0)\n",
        "            elif isinstance(m, nn.Linear):\n",
        "                nn.init.normal_(m.weight, 0, 0.01)\n",
        "                nn.init.constant_(m.bias, 0)\n",
        "\n"
      ],
      "metadata": {
        "id": "8gbHFa6cUECd"
      },
      "execution_count": 21,
      "outputs": []
    },
    {
      "cell_type": "code",
      "source": [
        "model = VGG8(num_classes=10)  # For CIFAR-10"
      ],
      "metadata": {
        "id": "prtS7CCNUpS-"
      },
      "execution_count": 22,
      "outputs": []
    },
    {
      "cell_type": "code",
      "source": [
        "device = torch.device(\"cuda:0\" if torch.cuda.is_available() else \"cpu\")\n",
        "print(\"Using device:\", device)"
      ],
      "metadata": {
        "colab": {
          "base_uri": "https://localhost:8080/"
        },
        "id": "Ki71xdTuUuCT",
        "outputId": "1d4801b9-5f64-43e3-ac5c-7e447562a85d"
      },
      "execution_count": 23,
      "outputs": [
        {
          "output_type": "stream",
          "name": "stdout",
          "text": [
            "Using device: cuda:0\n"
          ]
        }
      ]
    },
    {
      "cell_type": "code",
      "source": [
        "model.to(device)"
      ],
      "metadata": {
        "colab": {
          "base_uri": "https://localhost:8080/"
        },
        "id": "6tc2zQ60Uzpj",
        "outputId": "8768c479-c9e7-479c-d178-fe1bcbda120e"
      },
      "execution_count": 24,
      "outputs": [
        {
          "output_type": "execute_result",
          "data": {
            "text/plain": [
              "VGG8(\n",
              "  (features): Sequential(\n",
              "    (0): Conv2d(3, 64, kernel_size=(3, 3), stride=(1, 1), padding=(1, 1))\n",
              "    (1): ReLU(inplace=True)\n",
              "    (2): MaxPool2d(kernel_size=2, stride=2, padding=0, dilation=1, ceil_mode=False)\n",
              "    (3): Conv2d(64, 128, kernel_size=(3, 3), stride=(1, 1), padding=(1, 1))\n",
              "    (4): ReLU(inplace=True)\n",
              "    (5): MaxPool2d(kernel_size=2, stride=2, padding=0, dilation=1, ceil_mode=False)\n",
              "    (6): Conv2d(128, 256, kernel_size=(3, 3), stride=(1, 1), padding=(1, 1))\n",
              "    (7): ReLU(inplace=True)\n",
              "    (8): Conv2d(256, 256, kernel_size=(3, 3), stride=(1, 1), padding=(1, 1))\n",
              "    (9): ReLU(inplace=True)\n",
              "    (10): MaxPool2d(kernel_size=2, stride=2, padding=0, dilation=1, ceil_mode=False)\n",
              "    (11): Conv2d(256, 512, kernel_size=(3, 3), stride=(1, 1), padding=(1, 1))\n",
              "    (12): ReLU(inplace=True)\n",
              "    (13): Conv2d(512, 512, kernel_size=(3, 3), stride=(1, 1), padding=(1, 1))\n",
              "    (14): ReLU(inplace=True)\n",
              "    (15): MaxPool2d(kernel_size=2, stride=2, padding=0, dilation=1, ceil_mode=False)\n",
              "  )\n",
              "  (avgpool): AdaptiveAvgPool2d(output_size=(7, 7))\n",
              "  (classifier): Sequential(\n",
              "    (0): Linear(in_features=25088, out_features=4096, bias=True)\n",
              "    (1): ReLU(inplace=True)\n",
              "    (2): Dropout(p=0.5, inplace=False)\n",
              "    (3): Linear(in_features=4096, out_features=512, bias=True)\n",
              "    (4): ReLU(inplace=True)\n",
              "    (5): Dropout(p=0.5, inplace=False)\n",
              "    (6): Linear(in_features=512, out_features=10, bias=True)\n",
              "  )\n",
              ")"
            ]
          },
          "metadata": {},
          "execution_count": 24
        }
      ]
    },
    {
      "cell_type": "code",
      "source": [
        "criterion = nn.CrossEntropyLoss()\n",
        "optimizer = optim.SGD(model.parameters(), lr=0.001, momentum=0.7)"
      ],
      "metadata": {
        "id": "PSXsZ-ExU5C8"
      },
      "execution_count": 25,
      "outputs": []
    },
    {
      "cell_type": "code",
      "source": [
        "train_loss = []\n",
        "train_accuracy = []\n",
        "epoch_time = []\n",
        "\n",
        "for epoch in range(5):  # loop over the dataset multiple times\n",
        "    running_loss = 0.0\n",
        "    correct = 0\n",
        "    total = 0\n",
        "    start_time = time.time()\n",
        "\n",
        "    for i, data in enumerate(trainloader, 0):\n",
        "        # get the inputs; data is a list of [inputs, labels]\n",
        "        inputs, labels = data[0].to(device), data[1].to(device)\n",
        "\n",
        "        # zero the parameter gradients\n",
        "        optimizer.zero_grad()\n",
        "\n",
        "        # forward + backward + optimize\n",
        "        output = model(inputs)\n",
        "        loss = criterion(output, labels)\n",
        "        loss.backward()\n",
        "        optimizer.step()\n",
        "\n",
        "        # Calculate accuracy\n",
        "        _, predicted = torch.max(output.data, 1)\n",
        "        total += labels.size(0)\n",
        "        correct += (predicted == labels).sum().item()\n",
        "\n",
        "        # print statistics\n",
        "        running_loss += loss.item()\n",
        "        if i % 4000 == 3999:    # print every 4000 mini-batches\n",
        "            print('[%d, %5d] loss: %.3f' % (epoch + 1, i + 1, running_loss / 4000))\n",
        "            print('Time:', time.time() - start_time)\n",
        "            running_loss = 0.0\n",
        "\n",
        "    # Calculate epoch metrics\n",
        "    end_time = time.time()\n",
        "    epoch_time.append(end_time - start_time)\n",
        "\n",
        "    # Calculate average loss for the epoch\n",
        "    epoch_loss = 0.0\n",
        "    with torch.no_grad():\n",
        "        for data in trainloader:\n",
        "            images, labels = data[0].to(device), data[1].to(device)\n",
        "            outputs = model(images)\n",
        "            loss = criterion(outputs, labels)\n",
        "            epoch_loss += loss.item()\n",
        "\n",
        "    avg_loss = epoch_loss / len(trainloader)\n",
        "    train_loss.append(avg_loss)\n",
        "\n",
        "    # Calculate accuracy for the epoch\n",
        "    accuracy = 100 * correct / total\n",
        "    train_accuracy.append(accuracy)\n",
        "\n",
        "    print(f'Epoch {epoch+1} completed. Loss: {avg_loss:.3f}, Accuracy: {accuracy:.2f}%, Time: {epoch_time[-1]:.2f}s')\n",
        "\n",
        "print('Finished Training of VGG8 on CIFAR-10')"
      ],
      "metadata": {
        "colab": {
          "base_uri": "https://localhost:8080/"
        },
        "id": "_s5_K_eMU7dr",
        "outputId": "01f107db-d785-4ede-d045-b39e7039bd24"
      },
      "execution_count": 26,
      "outputs": [
        {
          "output_type": "stream",
          "name": "stdout",
          "text": [
            "[1,  4000] loss: 2.059\n",
            "Time: 220.21454572677612\n",
            "[1,  8000] loss: 1.740\n",
            "Time: 439.7981822490692\n",
            "[1, 12000] loss: 1.575\n",
            "Time: 659.4548156261444\n",
            "Epoch 1 completed. Loss: 1.478, Accuracy: 34.88%, Time: 686.99s\n",
            "[2,  4000] loss: 1.442\n",
            "Time: 219.2517318725586\n",
            "[2,  8000] loss: 1.368\n",
            "Time: 438.70447063446045\n",
            "[2, 12000] loss: 1.306\n",
            "Time: 657.9601356983185\n",
            "Epoch 2 completed. Loss: 1.195, Accuracy: 50.77%, Time: 685.47s\n",
            "[3,  4000] loss: 1.174\n",
            "Time: 219.44958209991455\n",
            "[3,  8000] loss: 1.116\n",
            "Time: 438.72759556770325\n",
            "[3, 12000] loss: 1.063\n",
            "Time: 657.9429981708527\n",
            "Epoch 3 completed. Loss: 1.008, Accuracy: 60.36%, Time: 685.41s\n",
            "[4,  4000] loss: 0.951\n",
            "Time: 218.86345505714417\n",
            "[4,  8000] loss: 0.932\n",
            "Time: 438.04219245910645\n",
            "[4, 12000] loss: 0.894\n",
            "Time: 657.5327560901642\n",
            "Epoch 4 completed. Loss: 0.832, Accuracy: 67.49%, Time: 685.07s\n",
            "[5,  4000] loss: 0.767\n",
            "Time: 219.0044059753418\n",
            "[5,  8000] loss: 0.778\n",
            "Time: 437.67950677871704\n",
            "[5, 12000] loss: 0.770\n",
            "Time: 656.7870860099792\n",
            "Epoch 5 completed. Loss: 0.610, Accuracy: 73.18%, Time: 684.19s\n",
            "Finished Training of VGG8 on CIFAR-10\n"
          ]
        }
      ]
    },
    {
      "cell_type": "code",
      "source": [
        "#Testing Accuracy\n",
        "correct = 0\n",
        "total = 0\n",
        "with torch.no_grad():\n",
        "    for data in testloader:\n",
        "        images, labels = data[0].to(device), data[1].to(device)\n",
        "        outputs = model(images)\n",
        "        _, predicted = torch.max(outputs.data, 1)\n",
        "        total += labels.size(0)\n",
        "        correct += (predicted == labels).sum().item()\n",
        "\n",
        "print('Accuracy of the network : %.2f %%' % (100 * correct / total))"
      ],
      "metadata": {
        "colab": {
          "base_uri": "https://localhost:8080/"
        },
        "id": "KXiIm3BQVE0q",
        "outputId": "f48b81ec-f368-4ac1-8a3b-f5ab62d46599"
      },
      "execution_count": 27,
      "outputs": [
        {
          "output_type": "stream",
          "name": "stdout",
          "text": [
            "Accuracy of the network : 70.10 %\n"
          ]
        }
      ]
    },
    {
      "cell_type": "code",
      "source": [
        "def plot_loss_accuracy(train_loss, train_accuracy):\n",
        "    fig, ax1 = plt.subplots()\n",
        "\n",
        "    color = 'tab:red'\n",
        "    ax1.set_xlabel('Epochs')\n",
        "    ax1.set_ylabel('Loss', color=color)\n",
        "    ax1.plot(train_loss, color=color)\n",
        "    ax1.tick_params(axis='y', labelcolor=color)\n",
        "\n",
        "    ax2 = ax1.twinx()\n",
        "    color = 'tab:blue'\n",
        "    ax2.set_ylabel('Accuracy', color=color)\n",
        "    ax2.plot(train_accuracy, color=color)\n",
        "    ax2.tick_params(axis='y', labelcolor=color)\n",
        "\n",
        "    fig.tight_layout()\n",
        "    plt.title('Training Loss and Accuracy')\n",
        "    plt.show()\n",
        "plot_loss_accuracy(train_loss, train_accuracy)"
      ],
      "metadata": {
        "colab": {
          "base_uri": "https://localhost:8080/",
          "height": 504
        },
        "id": "qkJx7xO0WvDi",
        "outputId": "22ffadad-856e-4798-9f06-f29aaf1c62f5"
      },
      "execution_count": 28,
      "outputs": [
        {
          "output_type": "display_data",
          "data": {
            "text/plain": [
              "<Figure size 640x480 with 2 Axes>"
            ],
            "image/png": "[encoded data removed]"
          },
          "metadata": {}
        }
      ]
    },
    {
      "cell_type": "code",
      "source": [
        "# plot the training time for each epoch where step size on the graph is 1 epoch\n",
        "# and the y-axis is the time taken for each epoch in seconds\n",
        "def plot_epoch_time(epoch_time):\n",
        "    plt.plot(range(1, len(epoch_time) + 1), epoch_time, marker='o')\n",
        "    plt.title('Epoch Time')\n",
        "    plt.xlabel('Epochs')\n",
        "    plt.ylabel('Time (seconds)')\n",
        "    plt.xticks(range(1, len(epoch_time) + 1))\n",
        "    plt.grid()\n",
        "    plt.show()\n",
        "\n",
        "plot_epoch_time(epoch_time)"
      ],
      "metadata": {
        "colab": {
          "base_uri": "https://localhost:8080/",
          "height": 472
        },
        "id": "sAiahPsKWzzK",
        "outputId": "b5d0cbba-a0c6-44fa-ff31-f4205882e4b2"
      },
      "execution_count": 29,
      "outputs": [
        {
          "output_type": "display_data",
          "data": {
            "text/plain": [
              "<Figure size 640x480 with 1 Axes>"
            ],
            "image/png": "[encoded data removed]"
          },
          "metadata": {}
        }
      ]
    },
    {
      "cell_type": "code",
      "source": [
        "#Save the training loss and accuracy and epoch time\n",
        "with open(os.path.join('results', 'training_results_vgg8.pkl'), 'wb') as f:\n",
        "    pickle.dump({'loss': train_loss, 'accuracy': train_accuracy, 'epoch_time': epoch_time}, f)"
      ],
      "metadata": {
        "id": "gCaX1sgWW4MF"
      },
      "execution_count": 30,
      "outputs": []
    },
    {
      "cell_type": "code",
      "source": [
        "# Save the model architecture and weights\n",
        "PATH = os.path.join(os.getcwd(),'models', 'vgg8_cifar10.pth')\n",
        "torch.save(model.state_dict(), PATH)"
      ],
      "metadata": {
        "id": "iALodtMJW7lP"
      },
      "execution_count": 31,
      "outputs": []
    },
    {
      "cell_type": "code",
      "source": [],
      "metadata": {
        "id": "kEzGdQmOXCux"
      },
      "execution_count": 31,
      "outputs": []
    }
  ]
}